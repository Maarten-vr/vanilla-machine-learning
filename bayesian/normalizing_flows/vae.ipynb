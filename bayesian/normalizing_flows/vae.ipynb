{
 "cells": [
  {
   "cell_type": "code",
   "execution_count": 4,
   "metadata": {},
   "outputs": [],
   "source": [
    "import torch\n",
    "from torch import nn\n",
    "from torchvision import datasets, transforms\n",
    "import torch.nn.functional as F\n",
    "import matplotlib.pyplot as plt"
   ]
  },
  {
   "cell_type": "code",
   "execution_count": 111,
   "metadata": {},
   "outputs": [],
   "source": [
    "batch_size = 128\n",
    "dl = torch.utils.data.DataLoader(\n",
    "    datasets.FashionMNIST('.', train=True, transform=transforms.ToTensor(), download=True),\n",
    "batch_size=batch_size)"
   ]
  },
  {
   "cell_type": "code",
   "execution_count": 119,
   "metadata": {},
   "outputs": [
    {
     "data": {
      "text/plain": [
       "<matplotlib.image.AxesImage at 0x7f4011231240>"
      ]
     },
     "execution_count": 119,
     "metadata": {},
     "output_type": "execute_result"
    },
    {
     "data": {
      "image/png": "[encoded data removed]",
      "text/plain": [
       "<Figure size 432x288 with 1 Axes>"
      ]
     },
     "metadata": {
      "needs_background": "light"
     },
     "output_type": "display_data"
    }
   ],
   "source": [
    "plt.imshow(1 - next(iter(dl))[0][2].view(28, 28).numpy(), cmap='Greys')"
   ]
  },
  {
   "cell_type": "code",
   "execution_count": 169,
   "metadata": {},
   "outputs": [],
   "source": [
    "def middle_size(size_in, size_out):\n",
    "    \"\"\"\n",
    "    Make a funnel with regard to the number of weights.\n",
    "    \"\"\"\n",
    "    return (size_in - size_out) // 2 + size_out\n",
    "\n",
    "class VAE(nn.Module):\n",
    "    def __init__(self, latent_size):\n",
    "        super().__init__()\n",
    "        \n",
    "        self.latent_size = latent_size \n",
    "        size = middle_size(784, self.latent_size)\n",
    "        \n",
    "        # Encode into gaussian paramaters. First part of vector is mu and second part log variance\n",
    "        self.encoder = nn.Sequential(\n",
    "            nn.Linear(784, size),\n",
    "            nn.ReLU(),\n",
    "            nn.Linear(size, size),\n",
    "            nn.ReLU(),\n",
    "            nn.Linear(size, latent_size * 2),\n",
    "        )\n",
    "        self.decoder = nn.Sequential(\n",
    "            nn.Linear(latent_size, size),\n",
    "            nn.ReLU(),\n",
    "            nn.Linear(size, size),\n",
    "            nn.ReLU(),\n",
    "            nn.Linear(size, 784),\n",
    "            nn.Sigmoid()\n",
    "        )\n",
    "        \n",
    "    def reparameterize(self, mu, log_var):\n",
    "        std = torch.exp(0.5 * log_var)\n",
    "        eps = torch.randn_like(std)  # unit gaussian\n",
    "        z = mu + eps * std \n",
    "        return z\n",
    "\n",
    "    def forward(self, x):\n",
    "        z_theta = self.encoder(x)\n",
    "        mu = z_theta[:, :self.latent_size]\n",
    "        log_var = z_theta[:, self.latent_size:]\n",
    "        z = self.reparameterize(mu, log_var)\n",
    "        return self.decoder(z), mu, log_var"
   ]
  },
  {
   "cell_type": "markdown",
   "metadata": {},
   "source": [
    "# CNN"
   ]
  },
  {
   "cell_type": "code",
   "execution_count": 171,
   "metadata": {},
   "outputs": [
    {
     "data": {
      "text/plain": [
       "<matplotlib.image.AxesImage at 0x7f40116dc9b0>"
      ]
     },
     "execution_count": 171,
     "metadata": {},
     "output_type": "execute_result"
    },
    {
     "data": {
      "image/png": "[encoded data removed]",
      "text/plain": [
       "<Figure size 432x288 with 1 Axes>"
      ]
     },
     "metadata": {
      "needs_background": "light"
     },
     "output_type": "display_data"
    }
   ],
   "source": [
    "    \n",
    "class UnFlatten(nn.Module):\n",
    "    def forward(self, x):\n",
    "        # Note -1 dimension is inferred.\n",
    "        return x.view(x.shape[0], -1, 1, 1)\n",
    "    \n",
    "    \n",
    "class CNNVAE(VAE):\n",
    "    # TODO: find good architecture. \n",
    "    def __init__(self, latent_size=400):\n",
    "        super().__init__(latent_size)\n",
    "       \n",
    "        self.encoder = nn.Sequential(\n",
    "            nn.Conv2d(in_channels=1, out_channels=16, kernel_size=3, stride=1),\n",
    "            nn.ReLU(),\n",
    "            nn.Conv2d(in_channels=16, out_channels=32, kernel_size=3, stride=2),\n",
    "            nn.ReLU(),\n",
    "            nn.Conv2d(in_channels=32, out_channels=32, kernel_size=3, stride=2),\n",
    "            nn.ReLU(),\n",
    "            nn.Flatten()\n",
    "        )\n",
    "        \n",
    "        self.decoder = nn.Sequential(\n",
    "            UnFlatten(),\n",
    "            nn.ConvTranspose2d(self.latent_size, 32, kernel_size=5, stride=2),\n",
    "            nn.ReLU(),\n",
    "            nn.ConvTranspose2d(32, 32, kernel_size=4, stride=2),\n",
    "            nn.ReLU(),\n",
    "            nn.ConvTranspose2d(32, 16, kernel_size=4, stride=2),\n",
    "            nn.ReLU(),\n",
    "            nn.ConvTranspose2d(16, 1, kernel_size=3, stride=1),\n",
    "            nn.Sigmoid()\n",
    "        )\n",
    "\n",
    "m = CNNVAE()\n",
    "plt.imshow(m(next(iter(dl))[0])[0][0].view(28, 28).data.numpy(), cmap='Greys')"
   ]
  },
  {
   "cell_type": "code",
   "execution_count": 172,
   "metadata": {},
   "outputs": [],
   "source": [
    "def loss_function(reconstruction_x, x, mu, log_var):\n",
    "    BCE = F.binary_cross_entropy(reconstruction_x, x.view(-1, 784), reduction='sum')\n",
    "\n",
    "    # see Appendix B from VAE paper:\n",
    "    # Kingma and Welling. Auto-Encoding Variational Bayes. ICLR, 2014\n",
    "    # https://arxiv.org/abs/1312.6114\n",
    "    # 0.5 * sum(1 + log(sigma^2) - mu^2 - sigma^2)\n",
    "    KLD = -0.5 * torch.sum(1 + log_var - mu**2 - log_var.exp())\n",
    "\n",
    "    return BCE + KLD"
   ]
  },
  {
   "cell_type": "code",
   "execution_count": 177,
   "metadata": {},
   "outputs": [
    {
     "name": "stdout",
     "output_type": "stream",
     "text": [
      "Train Epoch: 1 [0/60000 (0%)]\tLoss: 545.216492\n",
      "Train Epoch: 1 [19200/60000 (32%)]\tLoss: 304.467712\n",
      "Train Epoch: 1 [38400/60000 (64%)]\tLoss: 282.475281\n",
      "Train Epoch: 1 [57600/60000 (96%)]\tLoss: 270.869110\n",
      "====> Epoch: 1 Average loss: 302.0279\n",
      "Train Epoch: 2 [0/60000 (0%)]\tLoss: 268.287903\n",
      "Train Epoch: 2 [19200/60000 (32%)]\tLoss: 273.701294\n",
      "Train Epoch: 2 [38400/60000 (64%)]\tLoss: 257.615631\n",
      "Train Epoch: 2 [57600/60000 (96%)]\tLoss: 255.759094\n",
      "====> Epoch: 2 Average loss: 262.8937\n",
      "Train Epoch: 3 [0/60000 (0%)]\tLoss: 252.945618\n",
      "Train Epoch: 3 [19200/60000 (32%)]\tLoss: 264.578156\n",
      "Train Epoch: 3 [38400/60000 (64%)]\tLoss: 250.188477\n",
      "Train Epoch: 3 [57600/60000 (96%)]\tLoss: 252.424652\n",
      "====> Epoch: 3 Average loss: 253.8822\n",
      "Train Epoch: 4 [0/60000 (0%)]\tLoss: 247.508987\n",
      "Train Epoch: 4 [19200/60000 (32%)]\tLoss: 260.838867\n",
      "Train Epoch: 4 [38400/60000 (64%)]\tLoss: 247.394196\n",
      "Train Epoch: 4 [57600/60000 (96%)]\tLoss: 248.601410\n",
      "====> Epoch: 4 Average loss: 250.5403\n",
      "Train Epoch: 5 [0/60000 (0%)]\tLoss: 243.754486\n",
      "Train Epoch: 5 [19200/60000 (32%)]\tLoss: 258.409210\n",
      "Train Epoch: 5 [38400/60000 (64%)]\tLoss: 245.839935\n",
      "Train Epoch: 5 [57600/60000 (96%)]\tLoss: 248.752655\n",
      "====> Epoch: 5 Average loss: 248.1759\n",
      "Train Epoch: 6 [0/60000 (0%)]\tLoss: 242.354782\n",
      "Train Epoch: 6 [19200/60000 (32%)]\tLoss: 256.875854\n",
      "Train Epoch: 6 [38400/60000 (64%)]\tLoss: 245.116455\n",
      "Train Epoch: 6 [57600/60000 (96%)]\tLoss: 247.758835\n",
      "====> Epoch: 6 Average loss: 246.9103\n",
      "Train Epoch: 7 [0/60000 (0%)]\tLoss: 241.033920\n",
      "Train Epoch: 7 [19200/60000 (32%)]\tLoss: 256.162842\n",
      "Train Epoch: 7 [38400/60000 (64%)]\tLoss: 242.574280\n",
      "Train Epoch: 7 [57600/60000 (96%)]\tLoss: 245.996399\n",
      "====> Epoch: 7 Average loss: 245.8804\n",
      "Train Epoch: 8 [0/60000 (0%)]\tLoss: 239.238083\n",
      "Train Epoch: 8 [19200/60000 (32%)]\tLoss: 255.056564\n",
      "Train Epoch: 8 [38400/60000 (64%)]\tLoss: 242.117462\n",
      "Train Epoch: 8 [57600/60000 (96%)]\tLoss: 245.257553\n",
      "====> Epoch: 8 Average loss: 244.7513\n",
      "Train Epoch: 9 [0/60000 (0%)]\tLoss: 238.755569\n",
      "Train Epoch: 9 [19200/60000 (32%)]\tLoss: 253.945724\n",
      "Train Epoch: 9 [38400/60000 (64%)]\tLoss: 241.528793\n",
      "Train Epoch: 9 [57600/60000 (96%)]\tLoss: 243.930283\n",
      "====> Epoch: 9 Average loss: 243.8302\n",
      "Train Epoch: 10 [0/60000 (0%)]\tLoss: 238.498886\n",
      "Train Epoch: 10 [19200/60000 (32%)]\tLoss: 253.728821\n",
      "Train Epoch: 10 [38400/60000 (64%)]\tLoss: 241.584671\n",
      "Train Epoch: 10 [57600/60000 (96%)]\tLoss: 244.546021\n",
      "====> Epoch: 10 Average loss: 243.3323\n"
     ]
    }
   ],
   "source": [
    "latent_size = 250\n",
    "m = VAE(latent_size)\n",
    "m.cuda()\n",
    "\n",
    "def train(epoch, m, device, optimizer):\n",
    "    m.train()\n",
    "    train_loss = 0\n",
    "    for batch_idx, (x, _) in enumerate(dl):\n",
    "        x = x.to(device).view(-1, 784)\n",
    "        \n",
    "        optim.zero_grad()\n",
    "        recon_batch, mu, logvar = m(x)\n",
    "        loss = loss_function(recon_batch, x, mu, logvar)\n",
    "        loss.backward()\n",
    "        \n",
    "        train_loss += loss.item()\n",
    "        optimizer.step()\n",
    "        if batch_idx % 150 == 0:\n",
    "            print('Train Epoch: {} [{}/{} ({:.0f}%)]\\tLoss: {:.6f}'.format(\n",
    "                epoch, batch_idx * len(x), len(dl.dataset),\n",
    "                100. * batch_idx / len(dl),\n",
    "                loss.item() / len(x)))\n",
    "\n",
    "    print('====> Epoch: {} Average loss: {:.4f}'.format(epoch, train_loss / len(dl.dataset)))\n",
    "\n",
    "\n",
    "optim = torch.optim.Adam(m.parameters(), 1e-3)\n",
    "\n",
    "for epoch in range(1, 11):\n",
    "    train(epoch, m, 'cuda', optim)"
   ]
  },
  {
   "cell_type": "code",
   "execution_count": 180,
   "metadata": {},
   "outputs": [],
   "source": [
    "with torch.no_grad():\n",
    "    # take 5 samples\n",
    "    sample = torch.randn(5, latent_size).to('cuda')\n",
    "    sample = m.decoder(sample).cpu().view(-1, 28, 28)"
   ]
  },
  {
   "cell_type": "code",
   "execution_count": 181,
   "metadata": {},
   "outputs": [
    {
     "data": {
      "image/png": "[encoded data removed]",
      "text/plain": [
       "<Figure size 432x288 with 1 Axes>"
      ]
     },
     "metadata": {
      "needs_background": "light"
     },
     "output_type": "display_data"
    },
    {
     "data": {
      "image/png": "[encoded data removed]",
      "text/plain": [
       "<Figure size 432x288 with 1 Axes>"
      ]
     },
     "metadata": {
      "needs_background": "light"
     },
     "output_type": "display_data"
    },
    {
     "data": {
      "image/png": "[encoded data removed]",
      "text/plain": [
       "<Figure size 432x288 with 1 Axes>"
      ]
     },
     "metadata": {
      "needs_background": "light"
     },
     "output_type": "display_data"
    },
    {
     "data": {
      "image/png": "[encoded data removed]",
      "text/plain": [
       "<Figure size 432x288 with 1 Axes>"
      ]
     },
     "metadata": {
      "needs_background": "light"
     },
     "output_type": "display_data"
    },
    {
     "data": {
      "image/png": "[encoded data removed]",
      "text/plain": [
       "<Figure size 432x288 with 1 Axes>"
      ]
     },
     "metadata": {
      "needs_background": "light"
     },
     "output_type": "display_data"
    }
   ],
   "source": [
    "for i in range(sample.shape[0]):\n",
    "    plt.imshow(sample[i].view(28, 28), cmap='Greys')\n",
    "    plt.show()"
   ]
  },
  {
   "cell_type": "code",
   "execution_count": 262,
   "metadata": {},
   "outputs": [],
   "source": [
    "class PlanarFlow(nn.Module):\n",
    "    def __init__(self, size=1, init_sigma=0.01):\n",
    "        super().__init__()\n",
    "        self.u = nn.Parameter(torch.randn(size, ).normal_(0, 0.01))\n",
    "        self.w = nn.Parameter(torch.randn(size, ).normal_(0, 0.01))\n",
    "        self.b = nn.Parameter(torch.zeros(size, 1))\n",
    "    \n",
    "    @property\n",
    "    def normalized_u(self):\n",
    "        \"\"\"\n",
    "        Needed for invertibility condition.\n",
    "        \n",
    "        See Appendix A.1\n",
    "        Rezende et al. Variational Inference with Normalizing Flows\n",
    "        https://arxiv.org/pdf/1505.05770.pdf\n",
    "        \"\"\"\n",
    "        def m(x):\n",
    "            return -1 + torch.log(1 + torch.exp(x))\n",
    "        wtu = self.w @ self.u.t()\n",
    "        return self.u + (m(wtu) - wtu) * self.w / (self.w @ self.w.t())\n",
    "    \n",
    "    def psi(self, z):\n",
    "        \"\"\"\n",
    "        ψ(z) =h′(w^tz+b)w\n",
    "        \n",
    "        See eq(11)\n",
    "        Rezende et al. Variational Inference with Normalizing Flows\n",
    "        https://arxiv.org/pdf/1505.05770.pdf\n",
    "        \"\"\"\n",
    "        return (self.h_prime(z @ self.w.t() + self.b).t() @ self.w.t())\n",
    "    \n",
    "    def h(self, x):\n",
    "        return torch.tanh(x)\n",
    "        \n",
    "    def h_prime(self, z):\n",
    "        return 1 - torch.tanh(z)**2\n",
    "        \n",
    "    def forward(self, z):\n",
    "        if isinstance(z, tuple):\n",
    "            z, accumulating_log_abs_det = z\n",
    "        else:\n",
    "            z, accumulating_log_abs_det = z, 0\n",
    "        \n",
    "        psi = self.psi(z)\n",
    "        u = self.normalized_u\n",
    "        print(psi.shape, u.shape)\n",
    "        # determinant of jacobian\n",
    "        det = (1 + psi @ u.t()).unsqueeze(1)\n",
    "        \n",
    "        # log |det Jac|\n",
    "        log_abs_det = torch.log(torch.abs(det) + 1e-6)\n",
    "        \n",
    "        fz = z + u + self.h((z @ self.w.t()).unsqueeze(1) + self.b)\n",
    "        print(fz.shape)\n",
    "        \n",
    "        return fz, log_abs_det + accumulating_log_abs_det\n",
    "\n",
    "class Planar(nn.Module):\n",
    "    \"\"\"\n",
    "    PyTorch implementation of planar flows as presented in \"Variational Inference with Normalizing Flows\"\n",
    "    by Danilo Jimenez Rezende, Shakir Mohamed. Model assumes amortized flow parameters.\n",
    "    \"\"\"\n",
    "\n",
    "    def __init__(self):\n",
    "\n",
    "        super(Planar, self).__init__()\n",
    "\n",
    "        self.h = nn.Tanh()\n",
    "        self.softplus = nn.Softplus()\n",
    "\n",
    "    def der_h(self, x):\n",
    "        \"\"\" Derivative of tanh \"\"\"\n",
    "\n",
    "        return 1 - self.h(x) ** 2\n",
    "\n",
    "    def forward(self, zk, u, w, b):\n",
    "        \"\"\"\n",
    "        Forward pass. Assumes amortized u, w and b. Conditions on diagonals of u and w for invertibility\n",
    "        will be be satisfied inside this function. Computes the following transformation:\n",
    "        z' = z + u h( w^T z + b)\n",
    "        or actually\n",
    "        z'^T = z^T + h(z^T w + b)u^T\n",
    "        Assumes the following input shapes:\n",
    "        shape u = (batch_size, z_size, 1)\n",
    "        shape w = (batch_size, 1, z_size)\n",
    "        shape b = (batch_size, 1, 1)\n",
    "        shape z = (batch_size, z_size).\n",
    "        \"\"\"\n",
    "\n",
    "        zk = zk.unsqueeze(2)\n",
    "\n",
    "        # reparameterize u such that the flow becomes invertible (see appendix paper)\n",
    "        uw = torch.bmm(w, u)\n",
    "        m_uw = -1. + self.softplus(uw)\n",
    "        w_norm_sq = torch.sum(w ** 2, dim=2, keepdim=True)\n",
    "        u_hat = u + ((m_uw - uw) * w.transpose(2, 1) / w_norm_sq)\n",
    "\n",
    "        # compute flow with u_hat\n",
    "        wzb = torch.bmm(w, zk) + b\n",
    "        z = zk + u_hat * self.h(wzb)\n",
    "        z = z.squeeze(2)\n",
    "\n",
    "        # compute logdetJ\n",
    "        psi = w * self.der_h(wzb)\n",
    "        log_det_jacobian = torch.log(torch.abs(1 + torch.bmm(psi, u_hat)))\n",
    "        log_det_jacobian = log_det_jacobian.squeeze(2).squeeze(1)\n",
    "\n",
    "        return z, log_det_jacobian \n",
    "\n",
    "class FlowVAE(VAE):\n",
    "    def __init__(self, latent_size, n_flows=20):\n",
    "        super().__init__(latent_size)\n",
    "                \n",
    "        self.flow = nn.Sequential(*[\n",
    "            Planar(latent_size) for _ in range(n_flows)\n",
    "        ])   \n",
    "            \n",
    "    def forward(self, x):\n",
    "        z_theta = self.encoder(x)\n",
    "        mu0 = z_theta[:, :self.latent_size]\n",
    "        log_var0 = z_theta[:, self.latent_size:]\n",
    "        z0 = self.reparameterize(mu0, log_var0)\n",
    "        zk, accumulating_log_abs_det = self.flow(z0)\n",
    "        self.decoder(zk)\n",
    "        \n",
    "        return z0, zk, self.decoder(zk), accumulating_log_abs_det, mu0, log_var0"
   ]
  },
  {
   "cell_type": "code",
   "execution_count": 263,
   "metadata": {},
   "outputs": [],
   "source": [
    "def log_normal_standard(x, average=False, reduce=True, dim=None):\n",
    "    log_norm = -0.5 * x * x\n",
    "\n",
    "    if reduce:\n",
    "        if average:\n",
    "            return torch.mean(log_norm, dim)\n",
    "        else:\n",
    "            return torch.sum(log_norm, dim)\n",
    "    else:\n",
    "        return log_norm\n",
    "    \n",
    "def log_normal_diag(x, mean, log_var, average=False, reduce=True, dim=None):\n",
    "    log_norm = -0.5 * (log_var + (x - mean) * (x - mean) * log_var.exp().reciprocal())\n",
    "    if reduce:\n",
    "        if average:\n",
    "            return torch.mean(log_norm, dim)\n",
    "        else:\n",
    "            return torch.sum(log_norm, dim)\n",
    "    else:\n",
    "        return log_norm\n",
    "\n",
    "    \n",
    "def det_loss(reconstruction_x, x, mu, log_var, z_0, z_k, ldj, beta=1.):\n",
    "    \"\"\"\n",
    "    :param z_mu: mean of z_0\n",
    "    :param z_var: variance of z_0\n",
    "    :param z_0: first stochastic latent variable\n",
    "    :param z_k: last stochastic latent variable\n",
    "    :param ldj: log det jacobian\n",
    "    \"\"\"\n",
    "\n",
    "    reconstruction_function = nn.BCELoss(reduction='sum')\n",
    "\n",
    "    batch_size = x.size(0)\n",
    "\n",
    "    # - N E_q0 [ ln p(x|z_k) ]\n",
    "    likelihood = reconstruction_function(reconstruction_x, x)\n",
    "\n",
    "    # ln p(z_k)  (not averaged)\n",
    "    log_p_zk = log_normal_standard(z_k, dim=1)\n",
    "    # ln q(z_0)  (not averaged)\n",
    "    log_q_z0 = log_normal_diag(z_0, mean=mu, log_var=log_var, dim=1)\n",
    "    # N E_q0[ ln q(z_0) - ln p(z_k) ]\n",
    "    summed_logs = torch.sum(log_q_z0 - log_p_zk)\n",
    "\n",
    "    # sum over batches\n",
    "    summed_ldj = torch.sum(ldj)\n",
    "\n",
    "    # ldj = N E_q_z0[\\sum_k log |det dz_k/dz_k-1| ]\n",
    "    kl = (summed_logs - summed_ldj)\n",
    "    loss = likelihood + beta * kl\n",
    "\n",
    "    loss = loss / float(batch_size)\n",
    "\n",
    "    return loss"
   ]
  },
  {
   "cell_type": "code",
   "execution_count": 264,
   "metadata": {},
   "outputs": [
    {
     "name": "stdout",
     "output_type": "stream",
     "text": [
      "torch.Size([128]) torch.Size([250])\n"
     ]
    },
    {
     "ename": "RuntimeError",
     "evalue": "invalid argument 2: sizes do not match at /opt/conda/conda-bld/pytorch_1565272271120/work/aten/src/THC/generic/THCTensorMathBlas.cu:20",
     "output_type": "error",
     "traceback": [
      "\u001b[0;31m---------------------------------------------------------------------------\u001b[0m",
      "\u001b[0;31mRuntimeError\u001b[0m                              Traceback (most recent call last)",
      "\u001b[0;32m<ipython-input-264-2812b1a460b9>\u001b[0m in \u001b[0;36m<module>\u001b[0;34m\u001b[0m\n\u001b[1;32m     39\u001b[0m \u001b[0;34m\u001b[0m\u001b[0m\n\u001b[1;32m     40\u001b[0m \u001b[0;32mfor\u001b[0m \u001b[0mepoch\u001b[0m \u001b[0;32min\u001b[0m \u001b[0mrange\u001b[0m\u001b[0;34m(\u001b[0m\u001b[0;36m1\u001b[0m\u001b[0;34m,\u001b[0m \u001b[0;36m11\u001b[0m\u001b[0;34m)\u001b[0m\u001b[0;34m:\u001b[0m\u001b[0;34m\u001b[0m\u001b[0;34m\u001b[0m\u001b[0m\n\u001b[0;32m---> 41\u001b[0;31m     \u001b[0mtrain\u001b[0m\u001b[0;34m(\u001b[0m\u001b[0mepoch\u001b[0m\u001b[0;34m,\u001b[0m \u001b[0mm\u001b[0m\u001b[0;34m,\u001b[0m \u001b[0;34m'cuda'\u001b[0m\u001b[0;34m,\u001b[0m \u001b[0moptim\u001b[0m\u001b[0;34m)\u001b[0m\u001b[0;34m\u001b[0m\u001b[0;34m\u001b[0m\u001b[0m\n\u001b[0m",
      "\u001b[0;32m<ipython-input-264-2812b1a460b9>\u001b[0m in \u001b[0;36mtrain\u001b[0;34m(epoch, m, device, optimizer)\u001b[0m\n\u001b[1;32m     10\u001b[0m \u001b[0;34m\u001b[0m\u001b[0m\n\u001b[1;32m     11\u001b[0m         \u001b[0moptim\u001b[0m\u001b[0;34m.\u001b[0m\u001b[0mzero_grad\u001b[0m\u001b[0;34m(\u001b[0m\u001b[0;34m)\u001b[0m\u001b[0;34m\u001b[0m\u001b[0;34m\u001b[0m\u001b[0m\n\u001b[0;32m---> 12\u001b[0;31m         \u001b[0mz0\u001b[0m\u001b[0;34m,\u001b[0m \u001b[0mzk\u001b[0m\u001b[0;34m,\u001b[0m \u001b[0mreconstruction_x\u001b[0m\u001b[0;34m,\u001b[0m \u001b[0maccumulating_log_abs_det\u001b[0m\u001b[0;34m,\u001b[0m \u001b[0mmu0\u001b[0m\u001b[0;34m,\u001b[0m \u001b[0mlog_var0\u001b[0m \u001b[0;34m=\u001b[0m \u001b[0mm\u001b[0m\u001b[0;34m(\u001b[0m\u001b[0mx\u001b[0m\u001b[0;34m)\u001b[0m\u001b[0;34m\u001b[0m\u001b[0;34m\u001b[0m\u001b[0m\n\u001b[0m\u001b[1;32m     13\u001b[0m \u001b[0;34m\u001b[0m\u001b[0m\n\u001b[1;32m     14\u001b[0m         loss = det_loss(x=x, \n",
      "\u001b[0;32m/opt/miniconda3/lib/python3.7/site-packages/torch/nn/modules/module.py\u001b[0m in \u001b[0;36m__call__\u001b[0;34m(self, *input, **kwargs)\u001b[0m\n\u001b[1;32m    545\u001b[0m             \u001b[0mresult\u001b[0m \u001b[0;34m=\u001b[0m \u001b[0mself\u001b[0m\u001b[0;34m.\u001b[0m\u001b[0m_slow_forward\u001b[0m\u001b[0;34m(\u001b[0m\u001b[0;34m*\u001b[0m\u001b[0minput\u001b[0m\u001b[0;34m,\u001b[0m \u001b[0;34m**\u001b[0m\u001b[0mkwargs\u001b[0m\u001b[0;34m)\u001b[0m\u001b[0;34m\u001b[0m\u001b[0;34m\u001b[0m\u001b[0m\n\u001b[1;32m    546\u001b[0m         \u001b[0;32melse\u001b[0m\u001b[0;34m:\u001b[0m\u001b[0;34m\u001b[0m\u001b[0;34m\u001b[0m\u001b[0m\n\u001b[0;32m--> 547\u001b[0;31m             \u001b[0mresult\u001b[0m \u001b[0;34m=\u001b[0m \u001b[0mself\u001b[0m\u001b[0;34m.\u001b[0m\u001b[0mforward\u001b[0m\u001b[0;34m(\u001b[0m\u001b[0;34m*\u001b[0m\u001b[0minput\u001b[0m\u001b[0;34m,\u001b[0m \u001b[0;34m**\u001b[0m\u001b[0mkwargs\u001b[0m\u001b[0;34m)\u001b[0m\u001b[0;34m\u001b[0m\u001b[0;34m\u001b[0m\u001b[0m\n\u001b[0m\u001b[1;32m    548\u001b[0m         \u001b[0;32mfor\u001b[0m \u001b[0mhook\u001b[0m \u001b[0;32min\u001b[0m \u001b[0mself\u001b[0m\u001b[0;34m.\u001b[0m\u001b[0m_forward_hooks\u001b[0m\u001b[0;34m.\u001b[0m\u001b[0mvalues\u001b[0m\u001b[0;34m(\u001b[0m\u001b[0;34m)\u001b[0m\u001b[0;34m:\u001b[0m\u001b[0;34m\u001b[0m\u001b[0;34m\u001b[0m\u001b[0m\n\u001b[1;32m    549\u001b[0m             \u001b[0mhook_result\u001b[0m \u001b[0;34m=\u001b[0m \u001b[0mhook\u001b[0m\u001b[0;34m(\u001b[0m\u001b[0mself\u001b[0m\u001b[0;34m,\u001b[0m \u001b[0minput\u001b[0m\u001b[0;34m,\u001b[0m \u001b[0mresult\u001b[0m\u001b[0;34m)\u001b[0m\u001b[0;34m\u001b[0m\u001b[0;34m\u001b[0m\u001b[0m\n",
      "\u001b[0;32m<ipython-input-262-fd36609523a9>\u001b[0m in \u001b[0;36mforward\u001b[0;34m(self, x)\u001b[0m\n\u001b[1;32m     71\u001b[0m         \u001b[0mlog_var0\u001b[0m \u001b[0;34m=\u001b[0m \u001b[0mz_theta\u001b[0m\u001b[0;34m[\u001b[0m\u001b[0;34m:\u001b[0m\u001b[0;34m,\u001b[0m \u001b[0mself\u001b[0m\u001b[0;34m.\u001b[0m\u001b[0mlatent_size\u001b[0m\u001b[0;34m:\u001b[0m\u001b[0;34m]\u001b[0m\u001b[0;34m\u001b[0m\u001b[0;34m\u001b[0m\u001b[0m\n\u001b[1;32m     72\u001b[0m         \u001b[0mz0\u001b[0m \u001b[0;34m=\u001b[0m \u001b[0mself\u001b[0m\u001b[0;34m.\u001b[0m\u001b[0mreparameterize\u001b[0m\u001b[0;34m(\u001b[0m\u001b[0mmu0\u001b[0m\u001b[0;34m,\u001b[0m \u001b[0mlog_var0\u001b[0m\u001b[0;34m)\u001b[0m\u001b[0;34m\u001b[0m\u001b[0;34m\u001b[0m\u001b[0m\n\u001b[0;32m---> 73\u001b[0;31m         \u001b[0mzk\u001b[0m\u001b[0;34m,\u001b[0m \u001b[0maccumulating_log_abs_det\u001b[0m \u001b[0;34m=\u001b[0m \u001b[0mself\u001b[0m\u001b[0;34m.\u001b[0m\u001b[0mflow\u001b[0m\u001b[0;34m(\u001b[0m\u001b[0mz0\u001b[0m\u001b[0;34m)\u001b[0m\u001b[0;34m\u001b[0m\u001b[0;34m\u001b[0m\u001b[0m\n\u001b[0m\u001b[1;32m     74\u001b[0m         \u001b[0mself\u001b[0m\u001b[0;34m.\u001b[0m\u001b[0mdecoder\u001b[0m\u001b[0;34m(\u001b[0m\u001b[0mzk\u001b[0m\u001b[0;34m)\u001b[0m\u001b[0;34m\u001b[0m\u001b[0;34m\u001b[0m\u001b[0m\n\u001b[1;32m     75\u001b[0m \u001b[0;34m\u001b[0m\u001b[0m\n",
      "\u001b[0;32m/opt/miniconda3/lib/python3.7/site-packages/torch/nn/modules/module.py\u001b[0m in \u001b[0;36m__call__\u001b[0;34m(self, *input, **kwargs)\u001b[0m\n\u001b[1;32m    545\u001b[0m             \u001b[0mresult\u001b[0m \u001b[0;34m=\u001b[0m \u001b[0mself\u001b[0m\u001b[0;34m.\u001b[0m\u001b[0m_slow_forward\u001b[0m\u001b[0;34m(\u001b[0m\u001b[0;34m*\u001b[0m\u001b[0minput\u001b[0m\u001b[0;34m,\u001b[0m \u001b[0;34m**\u001b[0m\u001b[0mkwargs\u001b[0m\u001b[0;34m)\u001b[0m\u001b[0;34m\u001b[0m\u001b[0;34m\u001b[0m\u001b[0m\n\u001b[1;32m    546\u001b[0m         \u001b[0;32melse\u001b[0m\u001b[0;34m:\u001b[0m\u001b[0;34m\u001b[0m\u001b[0;34m\u001b[0m\u001b[0m\n\u001b[0;32m--> 547\u001b[0;31m             \u001b[0mresult\u001b[0m \u001b[0;34m=\u001b[0m \u001b[0mself\u001b[0m\u001b[0;34m.\u001b[0m\u001b[0mforward\u001b[0m\u001b[0;34m(\u001b[0m\u001b[0;34m*\u001b[0m\u001b[0minput\u001b[0m\u001b[0;34m,\u001b[0m \u001b[0;34m**\u001b[0m\u001b[0mkwargs\u001b[0m\u001b[0;34m)\u001b[0m\u001b[0;34m\u001b[0m\u001b[0;34m\u001b[0m\u001b[0m\n\u001b[0m\u001b[1;32m    548\u001b[0m         \u001b[0;32mfor\u001b[0m \u001b[0mhook\u001b[0m \u001b[0;32min\u001b[0m \u001b[0mself\u001b[0m\u001b[0;34m.\u001b[0m\u001b[0m_forward_hooks\u001b[0m\u001b[0;34m.\u001b[0m\u001b[0mvalues\u001b[0m\u001b[0;34m(\u001b[0m\u001b[0;34m)\u001b[0m\u001b[0;34m:\u001b[0m\u001b[0;34m\u001b[0m\u001b[0;34m\u001b[0m\u001b[0m\n\u001b[1;32m    549\u001b[0m             \u001b[0mhook_result\u001b[0m \u001b[0;34m=\u001b[0m \u001b[0mhook\u001b[0m\u001b[0;34m(\u001b[0m\u001b[0mself\u001b[0m\u001b[0;34m,\u001b[0m \u001b[0minput\u001b[0m\u001b[0;34m,\u001b[0m \u001b[0mresult\u001b[0m\u001b[0;34m)\u001b[0m\u001b[0;34m\u001b[0m\u001b[0;34m\u001b[0m\u001b[0m\n",
      "\u001b[0;32m/opt/miniconda3/lib/python3.7/site-packages/torch/nn/modules/container.py\u001b[0m in \u001b[0;36mforward\u001b[0;34m(self, input)\u001b[0m\n\u001b[1;32m     90\u001b[0m     \u001b[0;32mdef\u001b[0m \u001b[0mforward\u001b[0m\u001b[0;34m(\u001b[0m\u001b[0mself\u001b[0m\u001b[0;34m,\u001b[0m \u001b[0minput\u001b[0m\u001b[0;34m)\u001b[0m\u001b[0;34m:\u001b[0m\u001b[0;34m\u001b[0m\u001b[0;34m\u001b[0m\u001b[0m\n\u001b[1;32m     91\u001b[0m         \u001b[0;32mfor\u001b[0m \u001b[0mmodule\u001b[0m \u001b[0;32min\u001b[0m \u001b[0mself\u001b[0m\u001b[0;34m.\u001b[0m\u001b[0m_modules\u001b[0m\u001b[0;34m.\u001b[0m\u001b[0mvalues\u001b[0m\u001b[0;34m(\u001b[0m\u001b[0;34m)\u001b[0m\u001b[0;34m:\u001b[0m\u001b[0;34m\u001b[0m\u001b[0;34m\u001b[0m\u001b[0m\n\u001b[0;32m---> 92\u001b[0;31m             \u001b[0minput\u001b[0m \u001b[0;34m=\u001b[0m \u001b[0mmodule\u001b[0m\u001b[0;34m(\u001b[0m\u001b[0minput\u001b[0m\u001b[0;34m)\u001b[0m\u001b[0;34m\u001b[0m\u001b[0;34m\u001b[0m\u001b[0m\n\u001b[0m\u001b[1;32m     93\u001b[0m         \u001b[0;32mreturn\u001b[0m \u001b[0minput\u001b[0m\u001b[0;34m\u001b[0m\u001b[0;34m\u001b[0m\u001b[0m\n\u001b[1;32m     94\u001b[0m \u001b[0;34m\u001b[0m\u001b[0m\n",
      "\u001b[0;32m/opt/miniconda3/lib/python3.7/site-packages/torch/nn/modules/module.py\u001b[0m in \u001b[0;36m__call__\u001b[0;34m(self, *input, **kwargs)\u001b[0m\n\u001b[1;32m    545\u001b[0m             \u001b[0mresult\u001b[0m \u001b[0;34m=\u001b[0m \u001b[0mself\u001b[0m\u001b[0;34m.\u001b[0m\u001b[0m_slow_forward\u001b[0m\u001b[0;34m(\u001b[0m\u001b[0;34m*\u001b[0m\u001b[0minput\u001b[0m\u001b[0;34m,\u001b[0m \u001b[0;34m**\u001b[0m\u001b[0mkwargs\u001b[0m\u001b[0;34m)\u001b[0m\u001b[0;34m\u001b[0m\u001b[0;34m\u001b[0m\u001b[0m\n\u001b[1;32m    546\u001b[0m         \u001b[0;32melse\u001b[0m\u001b[0;34m:\u001b[0m\u001b[0;34m\u001b[0m\u001b[0;34m\u001b[0m\u001b[0m\n\u001b[0;32m--> 547\u001b[0;31m             \u001b[0mresult\u001b[0m \u001b[0;34m=\u001b[0m \u001b[0mself\u001b[0m\u001b[0;34m.\u001b[0m\u001b[0mforward\u001b[0m\u001b[0;34m(\u001b[0m\u001b[0;34m*\u001b[0m\u001b[0minput\u001b[0m\u001b[0;34m,\u001b[0m \u001b[0;34m**\u001b[0m\u001b[0mkwargs\u001b[0m\u001b[0;34m)\u001b[0m\u001b[0;34m\u001b[0m\u001b[0;34m\u001b[0m\u001b[0m\n\u001b[0m\u001b[1;32m    548\u001b[0m         \u001b[0;32mfor\u001b[0m \u001b[0mhook\u001b[0m \u001b[0;32min\u001b[0m \u001b[0mself\u001b[0m\u001b[0;34m.\u001b[0m\u001b[0m_forward_hooks\u001b[0m\u001b[0;34m.\u001b[0m\u001b[0mvalues\u001b[0m\u001b[0;34m(\u001b[0m\u001b[0;34m)\u001b[0m\u001b[0;34m:\u001b[0m\u001b[0;34m\u001b[0m\u001b[0;34m\u001b[0m\u001b[0m\n\u001b[1;32m    549\u001b[0m             \u001b[0mhook_result\u001b[0m \u001b[0;34m=\u001b[0m \u001b[0mhook\u001b[0m\u001b[0;34m(\u001b[0m\u001b[0mself\u001b[0m\u001b[0;34m,\u001b[0m \u001b[0minput\u001b[0m\u001b[0;34m,\u001b[0m \u001b[0mresult\u001b[0m\u001b[0;34m)\u001b[0m\u001b[0;34m\u001b[0m\u001b[0;34m\u001b[0m\u001b[0m\n",
      "\u001b[0;32m<ipython-input-262-fd36609523a9>\u001b[0m in \u001b[0;36mforward\u001b[0;34m(self, z)\u001b[0m\n\u001b[1;32m     46\u001b[0m         \u001b[0mprint\u001b[0m\u001b[0;34m(\u001b[0m\u001b[0mpsi\u001b[0m\u001b[0;34m.\u001b[0m\u001b[0mshape\u001b[0m\u001b[0;34m,\u001b[0m \u001b[0mu\u001b[0m\u001b[0;34m.\u001b[0m\u001b[0mshape\u001b[0m\u001b[0;34m)\u001b[0m\u001b[0;34m\u001b[0m\u001b[0;34m\u001b[0m\u001b[0m\n\u001b[1;32m     47\u001b[0m         \u001b[0;31m# determinant of jacobian\u001b[0m\u001b[0;34m\u001b[0m\u001b[0;34m\u001b[0m\u001b[0;34m\u001b[0m\u001b[0m\n\u001b[0;32m---> 48\u001b[0;31m         \u001b[0mdet\u001b[0m \u001b[0;34m=\u001b[0m \u001b[0;34m(\u001b[0m\u001b[0;36m1\u001b[0m \u001b[0;34m+\u001b[0m \u001b[0mpsi\u001b[0m \u001b[0;34m@\u001b[0m \u001b[0mu\u001b[0m\u001b[0;34m.\u001b[0m\u001b[0mt\u001b[0m\u001b[0;34m(\u001b[0m\u001b[0;34m)\u001b[0m\u001b[0;34m)\u001b[0m\u001b[0;34m.\u001b[0m\u001b[0munsqueeze\u001b[0m\u001b[0;34m(\u001b[0m\u001b[0;36m1\u001b[0m\u001b[0;34m)\u001b[0m\u001b[0;34m\u001b[0m\u001b[0;34m\u001b[0m\u001b[0m\n\u001b[0m\u001b[1;32m     49\u001b[0m \u001b[0;34m\u001b[0m\u001b[0m\n\u001b[1;32m     50\u001b[0m         \u001b[0;31m# log |det Jac|\u001b[0m\u001b[0;34m\u001b[0m\u001b[0;34m\u001b[0m\u001b[0;34m\u001b[0m\u001b[0m\n",
      "\u001b[0;31mRuntimeError\u001b[0m: invalid argument 2: sizes do not match at /opt/conda/conda-bld/pytorch_1565272271120/work/aten/src/THC/generic/THCTensorMathBlas.cu:20"
     ]
    }
   ],
   "source": [
    "latent_size = 250\n",
    "m = FlowVAE(latent_size)\n",
    "m.cuda()\n",
    "\n",
    "def train(epoch, m, device, optimizer):\n",
    "    m.train()\n",
    "    train_loss = 0\n",
    "    for batch_idx, (x, _) in enumerate(dl):\n",
    "        x = x.to(device).view(-1, 784)\n",
    "        \n",
    "        optim.zero_grad()\n",
    "        z0, zk, reconstruction_x, accumulating_log_abs_det, mu0, log_var0 = m(x)\n",
    "    \n",
    "        loss = det_loss(x=x, \n",
    "                        reconstruction_x=reconstruction_x, \n",
    "                        mu=mu0,\n",
    "                        log_var=log_var0,\n",
    "                        ldj=accumulating_log_abs_det,\n",
    "                        z_0=z0,\n",
    "                        z_k=zk\n",
    "                        )\n",
    "        \n",
    "        recon_batch, mu, logvar = m(x)\n",
    "        loss = loss_function(recon_batch, x, mu, logvar)\n",
    "        loss.backward()\n",
    "        \n",
    "        train_loss += loss.item()\n",
    "        optimizer.step()\n",
    "        if batch_idx % 150 == 0:\n",
    "            print('Train Epoch: {} [{}/{} ({:.0f}%)]\\tLoss: {:.6f}'.format(\n",
    "                epoch, batch_idx * len(x), len(dl.dataset),\n",
    "                100. * batch_idx / len(dl),\n",
    "                loss.item() / len(x)))\n",
    "\n",
    "    print('====> Epoch: {} Average loss: {:.4f}'.format(epoch, train_loss / len(dl.dataset)))\n",
    "\n",
    "\n",
    "optim = torch.optim.Adam(m.parameters(), 1e-3)\n",
    "\n",
    "for epoch in range(1, 11):\n",
    "    train(epoch, m, 'cuda', optim)"
   ]
  },
  {
   "cell_type": "code",
   "execution_count": null,
   "metadata": {},
   "outputs": [],
   "source": []
  },
  {
   "cell_type": "code",
   "execution_count": null,
   "metadata": {},
   "outputs": [],
   "source": []
  }
 ],
 "metadata": {
  "kernelspec": {
   "display_name": "Python 3",
   "language": "python",
   "name": "python3"
  },
  "language_info": {
   "codemirror_mode": {
    "name": "ipython",
    "version": 3
   },
   "file_extension": ".py",
   "mimetype": "text/x-python",
   "name": "python",
   "nbconvert_exporter": "python",
   "pygments_lexer": "ipython3",
   "version": "3.7.3"
  }
 },
 "nbformat": 4,
 "nbformat_minor": 4
}
